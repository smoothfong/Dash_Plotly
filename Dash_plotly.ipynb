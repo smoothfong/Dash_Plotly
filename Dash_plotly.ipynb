{
  "metadata": {
    "kernelspec": {
      "name": "python",
      "display_name": "Python (Pyodide)",
      "language": "python"
    },
    "language_info": {
      "codemirror_mode": {
        "name": "python",
        "version": 3
      },
      "file_extension": ".py",
      "mimetype": "text/x-python",
      "name": "python",
      "nbconvert_exporter": "python",
      "pygments_lexer": "ipython3",
      "version": "3.8"
    }
  },
  "nbformat_minor": 4,
  "nbformat": 4,
  "cells": [
    {
      "cell_type": "raw",
      "source": "##Terminal isnt working when inputting codes##",
      "metadata": {}
    },
    {
      "cell_type": "markdown",
      "source": "#Hands-on Lab: Build an Interactive Dashboard with Ploty Dash#",
      "metadata": {}
    },
    {
      "cell_type": "code",
      "source": "# Import required libraries\nimport pandas as pd\nimport dash\nfrom dash import html\nfrom dash import dcc\nfrom dash.dependencies import Input, Output\nimport plotly.express as px\n\n# Read the airline data into pandas dataframe\nspacex_df = pd.read_csv(\"spacex_launch_dash.csv\")\nmax_payload = spacex_df['Payload Mass (kg)'].max()\nmin_payload = spacex_df['Payload Mass (kg)'].min()\n\n#print(spacex_df['Launch Site'].unique())\n\n# Create a dash application\napp = dash.Dash(__name__)\n\n# Create an app layout\napp.layout = html.Div(children=[html.H1('SpaceX Launch Records Dashboard',\n                                        style={'textAlign': 'center', 'color': '#503D36',\n                                               'font-size': 40}),\n                                # TASK 1: Add a dropdown list to enable Launch Site selection\n                                # The default select value is for ALL sites\n                                dcc.Dropdown(id='site-dropdown',\n                                             options=[\n                                                    {'label': 'All Sites', 'value': 'ALL'},\n                                                    {'label': 'CCAFS LC-40', 'value': 'CCAFS LC-40'},\n                                                    {'label': 'VAFB SLC-4E', 'value': 'VAFB SLC-4E'},\n                                                    {'label': 'KSC LC-39A', 'value': 'KSC LC-39A'},\n                                                    {'label': 'CCAFS SLC-40', 'value': 'CCAFS SLC-40'}],\n                                             value='ALL',\n                                             placeholder=\"State\",\n                                             searchable=True\n                                            ),\n                                html.Br(),\n\n                                # TASK 2: Add a pie chart to show the total successful launches count for all sites\n                                # If a specific launch site was selected, show the Success vs. Failed counts for the site\n                                html.Div(dcc.Graph(id='success-pie-chart')),\n                                html.Br(),\n\n                                html.P(\"Payload range (Kg):\"),\n                                # TASK 3: Add a slider to select payload range\n                                dcc.RangeSlider(id='payload-slider',\n                                                min=0, max=10000, step=1000,\n                                                marks={0: '0', 100: '100'},\n                                                value=[min_payload, max_payload]),\n\n                                # TASK 4: Add a scatter chart to show the correlation between payload and launch success\n                                html.Div(dcc.Graph(id='success-payload-scatter-chart')),\n                                ])",
      "metadata": {
        "trusted": true
      },
      "outputs": [],
      "execution_count": null
    },
    {
      "cell_type": "code",
      "source": "# TASK 2:\n# Add a callback function for `site-dropdown` as input, `success-pie-chart` as output\n# Function decorator to specify function input and output\n@app.callback(Output(component_id='success-pie-chart', component_property='figure'),\n              Input(component_id='site-dropdown', component_property='value'))\ndef get_pie_chart(entered_site):    \n    if entered_site == 'ALL':\n        fig = px.pie(spacex_df, \n                     values='class', \n                     names='Launch Site', \n                     title='Total Success Launches By Site')        \n    else:\n        filtered_df = spacex_df[spacex_df['Launch Site'] == entered_site]\n        filtered_df = filtered_df.groupby('class').count().reset_index()        \n        fig = px.pie(filtered_df, \n                     values='Unnamed: 0', \n                     names='class', \n                     title='Total Launches for site {}'.format(entered_site))        \n        # return the outcomes piechart for a selected site\n    return fig\n        \n# TASK 4:\n# Add a callback function for `site-dropdown` and `payload-slider` as inputs, `success-payload-scatter-chart` as output\n@app.callback(Output(component_id='success-payload-scatter-chart', component_property='figure'),\n              Input(component_id='site-dropdown', component_property='value'), \n              Input(component_id=\"payload-slider\", component_property=\"value\"))\ndef get_scatter_chart(entered_site, payload_range):\n    print('Params: {} {}'.format(entered_site, payload_range))\n    if entered_site == 'ALL':\n        filtered_df = spacex_df[(spacex_df['Payload Mass (kg)'] >= int(payload_range[0])) &\n                                (spacex_df['Payload Mass (kg)'] <= int(payload_range[1]))\n                               ]\n        fig = px.scatter(filtered_df, x='Payload Mass (kg)', y='class', color='Booster Version Category', title='All sites - payload mass between {:8,d}kg and {:8,d}kg'.format(int(payload_range[0]),int(payload_range[1])))\n    else:\n        filtered_df = spacex_df[(spacex_df['Launch Site'] == entered_site) & \n                                (spacex_df['Payload Mass (kg)'] >= int(payload_range[0])) &\n                                (spacex_df['Payload Mass (kg)'] <= int(payload_range[1]))\n                               ]\n        fig = px.scatter(filtered_df, x='Payload Mass (kg)', y='class', color='Booster Version Category', title='Site {} - payload mass between {:8,d}kg and {:8,d}kg'.format(entered_site,int(payload_range[0]),int(payload_range[1])))\n    \n    return fig\n\n# Run the app\nif __name__ == '__main__':\n    app.run_server(debug=True)",
      "metadata": {
        "trusted": true
      },
      "outputs": [],
      "execution_count": null
    }
  ]
}